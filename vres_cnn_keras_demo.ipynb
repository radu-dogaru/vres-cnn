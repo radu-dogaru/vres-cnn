{
  "metadata": {
    "colab": {
      "provenance": []
    },
    "kernelspec": {
      "name": "python3",
      "display_name": "Python 3",
      "language": "python"
    },
    "accelerator": "GPU",
    "language_info": {
      "name": "python",
      "version": "3.10.13",
      "mimetype": "text/x-python",
      "codemirror_mode": {
        "name": "ipython",
        "version": 3
      },
      "pygments_lexer": "ipython3",
      "nbconvert_exporter": "python",
      "file_extension": ".py"
    },
    "kaggle": {
      "accelerator": "gpu",
      "dataSources": [],
      "dockerImageVersionId": 30699,
      "isInternetEnabled": true,
      "language": "python",
      "sourceType": "notebook",
      "isGpuEnabled": true
    }
  },
  "nbformat_minor": 0,
  "nbformat": 4,
  "cells": [
    {
      "cell_type": "markdown",
      "source": [
        "# Demo for training and using the VRES_CNN model in Keras\n",
        "\n",
        "If useful, please cite the paper:\n",
        "R. Dogaru and Ioana Dogaru, \"VRES-CNN: A Tiny Convolutional Image\n",
        "Classifier with Versatile Choice of Hyperparameters\", in Proceedings ECAI 2024."
      ],
      "metadata": {
        "id": "p7gl-yzOUZZ3"
      }
    },
    {
      "cell_type": "markdown",
      "source": [
        "# 0 - Load data (some extra-dataset may be required)"
      ],
      "metadata": {
        "id": "loh2IGVALkfX"
      }
    },
    {
      "cell_type": "code",
      "source": [
        "!pip install extra-keras-datasets\n",
        "from extra_keras_datasets import emnist, svhn, stl10\n",
        "# EMNIST may not be functional as of may 27, 2024"
      ],
      "metadata": {
        "id": "t0DmlWqvQ_Wo",
        "colab": {
          "base_uri": "https://localhost:8080/"
        },
        "outputId": "eaf4071a-4d9e-42c3-d943-700cd2bdefcc",
        "execution": {
          "iopub.status.busy": "2024-05-27T10:52:29.405857Z",
          "iopub.execute_input": "2024-05-27T10:52:29.406265Z",
          "iopub.status.idle": "2024-05-27T10:52:42.102455Z",
          "shell.execute_reply.started": "2024-05-27T10:52:29.406231Z",
          "shell.execute_reply": "2024-05-27T10:52:42.101412Z"
        },
        "trusted": true
      },
      "execution_count": null,
      "outputs": [
        {
          "name": "stdout",
          "text": "Requirement already satisfied: extra-keras-datasets in /opt/conda/lib/python3.10/site-packages (1.2.0)\nRequirement already satisfied: numpy in /opt/conda/lib/python3.10/site-packages (from extra-keras-datasets) (1.26.4)\nRequirement already satisfied: scipy in /opt/conda/lib/python3.10/site-packages (from extra-keras-datasets) (1.11.4)\nRequirement already satisfied: pandas in /opt/conda/lib/python3.10/site-packages (from extra-keras-datasets) (2.1.4)\nRequirement already satisfied: scikit-learn in /opt/conda/lib/python3.10/site-packages (from extra-keras-datasets) (1.2.2)\nRequirement already satisfied: python-dateutil>=2.8.2 in /opt/conda/lib/python3.10/site-packages (from pandas->extra-keras-datasets) (2.9.0.post0)\nRequirement already satisfied: pytz>=2020.1 in /opt/conda/lib/python3.10/site-packages (from pandas->extra-keras-datasets) (2023.3.post1)\nRequirement already satisfied: tzdata>=2022.1 in /opt/conda/lib/python3.10/site-packages (from pandas->extra-keras-datasets) (2023.4)\nRequirement already satisfied: joblib>=1.1.1 in /opt/conda/lib/python3.10/site-packages (from scikit-learn->extra-keras-datasets) (1.4.0)\nRequirement already satisfied: threadpoolctl>=2.0.0 in /opt/conda/lib/python3.10/site-packages (from scikit-learn->extra-keras-datasets) (3.2.0)\nRequirement already satisfied: six>=1.5 in /opt/conda/lib/python3.10/site-packages (from python-dateutil>=2.8.2->pandas->extra-keras-datasets) (1.16.0)\n",
          "output_type": "stream"
        }
      ]
    },
    {
      "cell_type": "code",
      "source": [
        "import numpy as np\n",
        "import keras\n",
        "datagen=False\n",
        "dataset='cifar10' # mnist or f-mnist or cifar10\n",
        "reduced=0  #  a positive value represents a reduced number of training samples (when memory allocation problems occur)\n",
        "dformat='channels_last'\n",
        "out_coding='cat'\n",
        "\n",
        "from keras.datasets import mnist, cifar10, cifar100, fashion_mnist\n",
        "\n",
        "\n",
        "if dataset=='mnist':\n",
        "    (x_train, y_train), (x_test, y_test) = mnist.load_data()\n",
        "elif  dataset=='cifar10':\n",
        "    (x_train, y_train), (x_test, y_test) = cifar10.load_data()\n",
        "elif  dataset=='cifar100':\n",
        "    (x_train, y_train), (x_test, y_test) = cifar100.load_data()\n",
        "elif dataset=='f-mnist':\n",
        "    (x_train, y_train), (x_test, y_test) =  fashion_mnist.load_data()\n",
        "elif dataset=='emnist':\n",
        "    (x_train, y_train), (x_test, y_test) =  emnist.load_data()\n",
        "elif dataset=='svhn':\n",
        "    (x_train, y_train), (x_test, y_test) =  svhn.load_data()\n",
        "elif dataset=='stl10':\n",
        "    (x_train, y_train), (x_test, y_test) =  stl10.load_data()\n",
        "\n",
        "if (np.ndim(x_train)==3):   # E.g.  MNIST or F-MNIST\n",
        "    x_train=np.reshape(x_train, [np.shape(x_train)[0],np.shape(x_train)[1],np.shape(x_train)[2], 1])\n",
        "    x_test=np.reshape(x_test, [np.shape(x_test)[0],np.shape(x_test)[1],np.shape(x_test)[2], 1] )\n",
        "# place a  1 in the end to keep it compatible with kernel in conv2d\n",
        "# scaling in ([0,1])\n",
        "x_train = x_train.astype('float32')\n",
        "x_test = x_test.astype('float32')\n",
        "x_train /= 255\n",
        "x_test /=255\n",
        "inp_chan=np.shape(x_train)[3]\n",
        "print('Number of input channels in image:', inp_chan)\n",
        "num_classes=int(np.max(y_train)+1)\n",
        "num_inputs = np.shape(x_test)[1]\n",
        "input_shape=np.shape(x_train)[1:4]\n",
        "imsize=input_shape[0]\n",
        "\n",
        "# if reduced >0\n",
        "if reduced>0:\n",
        "    Ntr1=reduced\n",
        "    x_train=x_train[0:Ntr1,:,:,:]\n",
        "    y_train=y_train[0:Ntr1]\n",
        "y_train = keras.utils.to_categorical(y_train, num_classes)\n",
        "y_test = keras.utils.to_categorical(y_test, num_classes)\n",
        "\n",
        "print('Training samples: ',np.shape(x_train)[0]); print('Validation samples: ',np.shape(x_test)[0]);\n",
        "print('Input data shape : ', np.shape(x_train)[1], 'x', np.shape(x_train)[2] )\n",
        "print('Number of classes: ',num_classes)"
      ],
      "metadata": {
        "id": "yFFIr2Je52eN",
        "colab": {
          "base_uri": "https://localhost:8080/"
        },
        "outputId": "4afa5a79-3bc5-4647-cfba-63a9834f853c",
        "execution": {
          "iopub.status.busy": "2024-05-27T13:51:30.891186Z",
          "iopub.execute_input": "2024-05-27T13:51:30.891525Z",
          "iopub.status.idle": "2024-05-27T13:51:54.503411Z",
          "shell.execute_reply.started": "2024-05-27T13:51:30.891495Z",
          "shell.execute_reply": "2024-05-27T13:51:54.502453Z"
        },
        "trusted": true
      },
      "execution_count": 9,
      "outputs": [
        {
          "output_type": "stream",
          "name": "stdout",
          "text": [
            "Number of input channels in image: 3\n",
            "Training samples:  50000\n",
            "Validation samples:  10000\n",
            "Input data shape :  32 x 32\n",
            "Number of classes:  10\n"
          ]
        }
      ]
    },
    {
      "cell_type": "markdown",
      "source": [
        "# 1 -   Define VRES-CNN model (less compact V-CNN included also)\n",
        "For V-CNN detalils: https://github.com/radu-dogaru/V-CNN"
      ],
      "metadata": {
        "id": "kY20uBAHhZEc"
      }
    },
    {
      "cell_type": "code",
      "source": [
        "# Model VRES-CNN\n",
        "# Copyright Radu & Ioana Dogaru, May 2024\n",
        "# code in support of paper\n",
        "# R. Dogaru and Ioana Dogaru, \"VRES-CNN: A Tiny Convolutional Image Classifier with Versatile Choice of Hyperparameters\", in Proceedings ECAI 2024.\n",
        "\n",
        "#-----------------------------------------------------------------------\n",
        "import numpy as np\n",
        "from keras.layers import Input, Conv2D, SeparableConv2D, ReLU, BatchNormalization,\\\n",
        "                                    Add, MaxPooling2D, AveragePooling2D, GlobalAveragePooling2D, \\\n",
        "                                    Flatten, Dense, Dropout, Activation, Identity, Concatenate\n",
        "from keras.models import Model\n",
        "sparse=False # depends on datasets\n",
        "\n",
        "\n",
        "def svcnn_resblock(x, filters, nl, resid=True, separ=True):\n",
        "    # filters and nl regarding macro-block\n",
        "    # csize=3 = economical, 5 gives faster convergence but not so light\n",
        "    csize=3; stri=2; psiz=3; pad='same';\n",
        "    drop1=0.6 # One may try other values e.g. 0.5\n",
        "    if nl>0:\n",
        "        if separ:\n",
        "            y=SeparableConv2D(filters, padding=pad, kernel_size=(csize, csize))(x)\n",
        "        else:\n",
        "            y=Conv2D(filters, padding=pad, kernel_size=(csize, csize))(x)\n",
        "        z=y\n",
        "        y=Activation('relu')(y)\n",
        "        for nonlin in range(1,nl):\n",
        "            if separ:\n",
        "                y=SeparableConv2D(filters, padding=pad, kernel_size=(csize, csize))(y)  # aici era (z) inainte de 5 iul ora 20\n",
        "            else:\n",
        "                y=Conv2D(filters, padding=pad, kernel_size=(csize, csize))(y)  # aici era (z) inainte de 5 iul ora 20\n",
        "            y=Activation('relu')(y)\n",
        "        if separ:\n",
        "            y=SeparableConv2D(filters, padding=pad, kernel_size=(csize, csize))(y)# Activ NL-CNN-2\n",
        "        else:\n",
        "            y=Conv2D(filters, padding=pad, kernel_size=(csize, csize))(y)#\n",
        "    else:\n",
        "        if separ:\n",
        "            y=SeparableConv2D(filters, padding=pad, kernel_size=(csize, csize) )(x)  # Activ NL-CNN-2\n",
        "        else:\n",
        "            y=Conv2D(filters, padding=pad, kernel_size=(csize, csize) )(x)  # Activ NL-CNN-2\n",
        "        z=y\n",
        "\n",
        "    if resid:\n",
        "        out = Add()([z, y])\n",
        "    else:\n",
        "        out=y\n",
        "    out=BatchNormalization()(out)  # Comment if no batch normalization ...\n",
        "    out=MaxPooling2D(pool_size=(psiz, psiz),strides=(stri,stri),padding=pad)(out)\n",
        "    out=Dropout(drop1)(out)   # If missing, very low performance and overfit present.\n",
        "\n",
        "\n",
        "    return out\n",
        "\n",
        "def create_vres_cnn(input_shape, num_classes, flat=1, fil=[100,100,100,100], nl=[1,1,0,0], hid=[], resid=True, separ=True):\n",
        "    # Note the number of elements in fil list (macrolayers) should be the same in nl list\n",
        "    # hid can be [] while if the are elements, additional dense layers are added in the output classifier\n",
        "    my_opt=keras.optimizers.Adam(learning_rate=0.01) # may be changed\n",
        "    nfilmax=np.shape(np.array(fil))[0]\n",
        "\n",
        "    inputs = Input(shape=input_shape) # / 255  # scaling\n",
        "    #============= MODULE MAIN =======================================================\n",
        "    # First macrolayer - connected to input  ----------------\n",
        "    layer=0\n",
        "    #print('layer: ',layer,' nl: ',nl[layer])\n",
        "    t=svcnn_resblock(inputs, fil[layer], nl[layer], resid, separ)\n",
        "    for layer in range(1,nfilmax):\n",
        "        #print('layer: ',layer,' nl: ',nl[layer])\n",
        "        t=svcnn_resblock(t, fil[layer], nl[layer], resid, separ)\n",
        "\n",
        "    # Exit classifier\n",
        "    # INPUT TO DENSE LAYER (FLATTEN - more data can overfit / GLOBAL - less data - may be a good choice )\n",
        "    if flat==1:\n",
        "        t=Flatten()(t)  #\n",
        "    elif flat==0:\n",
        "        t=GlobalAveragePooling2D()(t) #\n",
        "    #=============== END MODULE MAIN - BEGIN MODULE 2 =================\n",
        "\n",
        "    nhid=np.shape(np.array(hid))[0]\n",
        "    if nhid>0:\n",
        "        for lay in range(nhid):\n",
        "            t=Dense(hid[lay], activation='relu')(t)\n",
        "            #model.add(Dropout(drop1))\n",
        "    outputs =Dense(num_classes, activation='softmax')(t)\n",
        "    model = Model(inputs, outputs)\n",
        "# END OF MODEL DESCRIPTION\n",
        "    if sparse:\n",
        "        model.compile(\n",
        "            optimizer=my_opt,\n",
        "            #optimizer=tf.keras.optimizers.SGD(learning_rate=0.01, momentum=0.9, nesterov=True),\n",
        "            loss = 'sparse_categorical_crossentropy',\n",
        "            metrics=['sparse_categorical_accuracy']\n",
        "            )\n",
        "    else:\n",
        "        model.compile(loss='categorical_crossentropy',\n",
        "                      optimizer=my_opt,\n",
        "                      metrics=['accuracy'])\n",
        "    model.build(input_shape)\n",
        "    return model"
      ],
      "metadata": {
        "id": "_hNu08onJ8l9",
        "execution": {
          "iopub.status.busy": "2024-05-27T13:51:54.505426Z",
          "iopub.execute_input": "2024-05-27T13:51:54.506122Z",
          "iopub.status.idle": "2024-05-27T13:51:54.526529Z",
          "shell.execute_reply.started": "2024-05-27T13:51:54.506088Z",
          "shell.execute_reply": "2024-05-27T13:51:54.525423Z"
        },
        "trusted": true
      },
      "execution_count": 2,
      "outputs": []
    },
    {
      "cell_type": "markdown",
      "source": [
        "# 2  - construct a VRES-CNN model with specific hyper-params."
      ],
      "metadata": {
        "id": "wBHUV3mLJ8l9"
      }
    },
    {
      "cell_type": "code",
      "source": [
        "\n",
        "version='VRESCNN' # VRESCNN or VCNN\n",
        "myflat=0; myfil=[30,80,30]; mynl=[2,2,1]; myhid=[]   # aici se pot testa diferite alte valori\n",
        "\n",
        "if version=='VRESCNN':\n",
        "    my_resid=True\n",
        "    my_separ=True\n",
        "elif version == 'VCNN':\n",
        "    my_resid=False\n",
        "    my_separ=False\n",
        "\n",
        "model=create_vres_cnn(input_shape, num_classes, flat=myflat, fil=myfil, nl=mynl, hid=myhid, resid=my_resid, separ=my_separ)\n",
        "model_name=version+'_'+str(myflat)+'_'+str(myfil)+'_'+str(mynl)+'_'+str(myhid)\n",
        "print(model_name)\n",
        "model.summary()\n",
        "\n"
      ],
      "metadata": {
        "colab": {
          "base_uri": "https://localhost:8080/"
        },
        "id": "9LVn5AKjJ8l9",
        "outputId": "9099a5bc-7ea9-4b73-e3e8-e2c701a9c4e6",
        "execution": {
          "iopub.status.busy": "2024-05-27T13:51:59.718850Z",
          "iopub.execute_input": "2024-05-27T13:51:59.719707Z",
          "iopub.status.idle": "2024-05-27T13:52:00.554511Z",
          "shell.execute_reply.started": "2024-05-27T13:51:59.719668Z",
          "shell.execute_reply": "2024-05-27T13:52:00.553560Z"
        },
        "trusted": true
      },
      "execution_count": 40,
      "outputs": [
        {
          "output_type": "stream",
          "name": "stdout",
          "text": [
            "VRESCNN_0_[30, 80, 30]_[2, 2, 1]_[]\n",
            "Model: \"model_4\"\n",
            "__________________________________________________________________________________________________\n",
            " Layer (type)                Output Shape                 Param #   Connected to                  \n",
            "==================================================================================================\n",
            " input_5 (InputLayer)        [(None, 32, 32, 3)]          0         []                            \n",
            "                                                                                                  \n",
            " separable_conv2d_34 (Separ  (None, 32, 32, 30)           147       ['input_5[0][0]']             \n",
            " ableConv2D)                                                                                      \n",
            "                                                                                                  \n",
            " activation_21 (Activation)  (None, 32, 32, 30)           0         ['separable_conv2d_34[0][0]'] \n",
            "                                                                                                  \n",
            " separable_conv2d_35 (Separ  (None, 32, 32, 30)           1200      ['activation_21[0][0]']       \n",
            " ableConv2D)                                                                                      \n",
            "                                                                                                  \n",
            " activation_22 (Activation)  (None, 32, 32, 30)           0         ['separable_conv2d_35[0][0]'] \n",
            "                                                                                                  \n",
            " separable_conv2d_36 (Separ  (None, 32, 32, 30)           1200      ['activation_22[0][0]']       \n",
            " ableConv2D)                                                                                      \n",
            "                                                                                                  \n",
            " add_13 (Add)                (None, 32, 32, 30)           0         ['separable_conv2d_34[0][0]', \n",
            "                                                                     'separable_conv2d_36[0][0]'] \n",
            "                                                                                                  \n",
            " batch_normalization_13 (Ba  (None, 32, 32, 30)           120       ['add_13[0][0]']              \n",
            " tchNormalization)                                                                                \n",
            "                                                                                                  \n",
            " max_pooling2d_13 (MaxPooli  (None, 16, 16, 30)           0         ['batch_normalization_13[0][0]\n",
            " ng2D)                                                              ']                            \n",
            "                                                                                                  \n",
            " dropout_13 (Dropout)        (None, 16, 16, 30)           0         ['max_pooling2d_13[0][0]']    \n",
            "                                                                                                  \n",
            " separable_conv2d_37 (Separ  (None, 16, 16, 80)           2750      ['dropout_13[0][0]']          \n",
            " ableConv2D)                                                                                      \n",
            "                                                                                                  \n",
            " activation_23 (Activation)  (None, 16, 16, 80)           0         ['separable_conv2d_37[0][0]'] \n",
            "                                                                                                  \n",
            " separable_conv2d_38 (Separ  (None, 16, 16, 80)           7200      ['activation_23[0][0]']       \n",
            " ableConv2D)                                                                                      \n",
            "                                                                                                  \n",
            " activation_24 (Activation)  (None, 16, 16, 80)           0         ['separable_conv2d_38[0][0]'] \n",
            "                                                                                                  \n",
            " separable_conv2d_39 (Separ  (None, 16, 16, 80)           7200      ['activation_24[0][0]']       \n",
            " ableConv2D)                                                                                      \n",
            "                                                                                                  \n",
            " add_14 (Add)                (None, 16, 16, 80)           0         ['separable_conv2d_37[0][0]', \n",
            "                                                                     'separable_conv2d_39[0][0]'] \n",
            "                                                                                                  \n",
            " batch_normalization_14 (Ba  (None, 16, 16, 80)           320       ['add_14[0][0]']              \n",
            " tchNormalization)                                                                                \n",
            "                                                                                                  \n",
            " max_pooling2d_14 (MaxPooli  (None, 8, 8, 80)             0         ['batch_normalization_14[0][0]\n",
            " ng2D)                                                              ']                            \n",
            "                                                                                                  \n",
            " dropout_14 (Dropout)        (None, 8, 8, 80)             0         ['max_pooling2d_14[0][0]']    \n",
            "                                                                                                  \n",
            " separable_conv2d_40 (Separ  (None, 8, 8, 30)             3150      ['dropout_14[0][0]']          \n",
            " ableConv2D)                                                                                      \n",
            "                                                                                                  \n",
            " activation_25 (Activation)  (None, 8, 8, 30)             0         ['separable_conv2d_40[0][0]'] \n",
            "                                                                                                  \n",
            " separable_conv2d_41 (Separ  (None, 8, 8, 30)             1200      ['activation_25[0][0]']       \n",
            " ableConv2D)                                                                                      \n",
            "                                                                                                  \n",
            " add_15 (Add)                (None, 8, 8, 30)             0         ['separable_conv2d_40[0][0]', \n",
            "                                                                     'separable_conv2d_41[0][0]'] \n",
            "                                                                                                  \n",
            " batch_normalization_15 (Ba  (None, 8, 8, 30)             120       ['add_15[0][0]']              \n",
            " tchNormalization)                                                                                \n",
            "                                                                                                  \n",
            " max_pooling2d_15 (MaxPooli  (None, 4, 4, 30)             0         ['batch_normalization_15[0][0]\n",
            " ng2D)                                                              ']                            \n",
            "                                                                                                  \n",
            " dropout_15 (Dropout)        (None, 4, 4, 30)             0         ['max_pooling2d_15[0][0]']    \n",
            "                                                                                                  \n",
            " global_average_pooling2d_4  (None, 30)                   0         ['dropout_15[0][0]']          \n",
            "  (GlobalAveragePooling2D)                                                                        \n",
            "                                                                                                  \n",
            " dense_4 (Dense)             (None, 10)                   310       ['global_average_pooling2d_4[0\n",
            "                                                                    ][0]']                        \n",
            "                                                                                                  \n",
            "==================================================================================================\n",
            "Total params: 24917 (97.33 KB)\n",
            "Trainable params: 24637 (96.24 KB)\n",
            "Non-trainable params: 280 (1.09 KB)\n",
            "__________________________________________________________________________________________________\n"
          ]
        }
      ]
    },
    {
      "cell_type": "markdown",
      "source": [
        "# Prepare for training - best model (best val_accuracy) saving"
      ],
      "metadata": {
        "id": "zqEskmYzok3K"
      }
    },
    {
      "cell_type": "code",
      "source": [
        "from keras.callbacks import ModelCheckpoint\n",
        "from keras.models import load_model\n",
        "import time as ti\n",
        "checkpoint = ModelCheckpoint('best_model.keras', monitor= 'val_accuracy', mode= 'max', save_best_only = True, verbose=1)"
      ],
      "metadata": {
        "id": "D0TaappDhZEf",
        "execution": {
          "iopub.status.busy": "2024-05-27T13:52:08.358503Z",
          "iopub.execute_input": "2024-05-27T13:52:08.359236Z",
          "iopub.status.idle": "2024-05-27T13:52:08.363977Z",
          "shell.execute_reply.started": "2024-05-27T13:52:08.359200Z",
          "shell.execute_reply": "2024-05-27T13:52:08.363015Z"
        },
        "trusted": true
      },
      "execution_count": 41,
      "outputs": []
    },
    {
      "cell_type": "markdown",
      "source": [
        "# 2- Training"
      ],
      "metadata": {
        "id": "ImbNMClXriUG"
      }
    },
    {
      "cell_type": "code",
      "source": [
        "epoci=50  # epochs number\n",
        "if datagen==False:\n",
        "    batch_size=100  # batch_size to be defined here\n",
        "import time as ti\n",
        "t1=ti.time()\n",
        "\n",
        "#\n",
        "if datagen:\n",
        "  history = model.fit(train_generator, epochs=epoci, validation_data=validation_generator, verbose=1,\n",
        "                    callbacks = checkpoint)\n",
        "else:\n",
        "  history = model.fit(x_train, y_train, epochs=epoci, validation_data=(x_test, y_test), batch_size=batch_size, verbose=1,\n",
        "                    callbacks = checkpoint)\n",
        "\n",
        "t2=ti.time()\n",
        "print('====================================================')\n",
        "print('Training with  ',epoci,' epochs, lasted  ',int(t2-t1)/60,' minutes')\n",
        "\n",
        "model=load_model('best_model.keras')\n",
        "\n",
        "t1=ti.time()\n",
        "if datagen:\n",
        "    score = model.evaluate(validation_generator, verbose=0)\n",
        "else:\n",
        "    score = model.evaluate(x_test, y_test, verbose=0)\n",
        "t2=ti.time()\n",
        "\n",
        "print('--------------  Report  ------------------------')\n",
        "print ('Model size (K-params): ',model.count_params()//1000)\n",
        "print('Best validation accuracy :', 100*score[1],'%')\n",
        "print ('Prediction time per entire validation set: ',t2-t1)\n",
        "print('Latency (per sample):', 1000*(t2-t1)/np.shape(x_test)[0], 'ms')\n",
        "print('Dataset : ',dataset)\n",
        "print('Model: ',model_name)\n",
        "print('Image size: ',imsize)\n",
        "print('Batch size: ', batch_size)"
      ],
      "metadata": {
        "colab": {
          "base_uri": "https://localhost:8080/"
        },
        "id": "QuKMFzTSJ8l-",
        "outputId": "a058f9ec-94bd-4bb5-eece-96d2f1680050",
        "execution": {
          "iopub.status.busy": "2024-05-27T13:52:13.176596Z",
          "iopub.execute_input": "2024-05-27T13:52:13.177233Z",
          "iopub.status.idle": "2024-05-27T14:00:03.960068Z",
          "shell.execute_reply.started": "2024-05-27T13:52:13.177205Z",
          "shell.execute_reply": "2024-05-27T14:00:03.958966Z"
        },
        "trusted": true
      },
      "execution_count": 42,
      "outputs": [
        {
          "output_type": "stream",
          "name": "stdout",
          "text": [
            "Epoch 1/50\n",
            "497/500 [============================>.] - ETA: 0s - loss: 1.6530 - accuracy: 0.3865\n",
            "Epoch 1: val_accuracy improved from -inf to 0.27620, saving model to best_model.keras\n",
            "500/500 [==============================] - 12s 17ms/step - loss: 1.6516 - accuracy: 0.3869 - val_loss: 2.7208 - val_accuracy: 0.2762\n",
            "Epoch 2/50\n",
            "497/500 [============================>.] - ETA: 0s - loss: 1.2664 - accuracy: 0.5433\n",
            "Epoch 2: val_accuracy improved from 0.27620 to 0.48390, saving model to best_model.keras\n",
            "500/500 [==============================] - 7s 14ms/step - loss: 1.2652 - accuracy: 0.5436 - val_loss: 1.8919 - val_accuracy: 0.4839\n",
            "Epoch 3/50\n",
            "500/500 [==============================] - ETA: 0s - loss: 1.1415 - accuracy: 0.5908\n",
            "Epoch 3: val_accuracy improved from 0.48390 to 0.60100, saving model to best_model.keras\n",
            "500/500 [==============================] - 8s 15ms/step - loss: 1.1415 - accuracy: 0.5908 - val_loss: 1.1855 - val_accuracy: 0.6010\n",
            "Epoch 4/50\n",
            "500/500 [==============================] - ETA: 0s - loss: 1.0639 - accuracy: 0.6207\n",
            "Epoch 4: val_accuracy did not improve from 0.60100\n",
            "500/500 [==============================] - 7s 15ms/step - loss: 1.0639 - accuracy: 0.6207 - val_loss: 1.1630 - val_accuracy: 0.5905\n",
            "Epoch 5/50\n",
            "497/500 [============================>.] - ETA: 0s - loss: 1.0097 - accuracy: 0.6407\n",
            "Epoch 5: val_accuracy improved from 0.60100 to 0.61790, saving model to best_model.keras\n",
            "500/500 [==============================] - 8s 15ms/step - loss: 1.0104 - accuracy: 0.6406 - val_loss: 1.1369 - val_accuracy: 0.6179\n",
            "Epoch 6/50\n",
            "500/500 [==============================] - ETA: 0s - loss: 0.9785 - accuracy: 0.6509\n",
            "Epoch 6: val_accuracy improved from 0.61790 to 0.62670, saving model to best_model.keras\n",
            "500/500 [==============================] - 8s 16ms/step - loss: 0.9785 - accuracy: 0.6509 - val_loss: 1.1180 - val_accuracy: 0.6267\n",
            "Epoch 7/50\n",
            "497/500 [============================>.] - ETA: 0s - loss: 0.9463 - accuracy: 0.6654\n",
            "Epoch 7: val_accuracy improved from 0.62670 to 0.65190, saving model to best_model.keras\n",
            "500/500 [==============================] - 7s 15ms/step - loss: 0.9466 - accuracy: 0.6653 - val_loss: 1.0007 - val_accuracy: 0.6519\n",
            "Epoch 8/50\n",
            "500/500 [==============================] - ETA: 0s - loss: 0.9194 - accuracy: 0.6732\n",
            "Epoch 8: val_accuracy did not improve from 0.65190\n",
            "500/500 [==============================] - 7s 15ms/step - loss: 0.9194 - accuracy: 0.6732 - val_loss: 1.1469 - val_accuracy: 0.6315\n",
            "Epoch 9/50\n",
            "497/500 [============================>.] - ETA: 0s - loss: 0.8933 - accuracy: 0.6830\n",
            "Epoch 9: val_accuracy improved from 0.65190 to 0.69510, saving model to best_model.keras\n",
            "500/500 [==============================] - 7s 15ms/step - loss: 0.8934 - accuracy: 0.6830 - val_loss: 0.8629 - val_accuracy: 0.6951\n",
            "Epoch 10/50\n",
            "499/500 [============================>.] - ETA: 0s - loss: 0.8775 - accuracy: 0.6901\n",
            "Epoch 10: val_accuracy did not improve from 0.69510\n",
            "500/500 [==============================] - 7s 15ms/step - loss: 0.8775 - accuracy: 0.6900 - val_loss: 1.3190 - val_accuracy: 0.5871\n",
            "Epoch 11/50\n",
            "497/500 [============================>.] - ETA: 0s - loss: 0.8536 - accuracy: 0.7007\n",
            "Epoch 11: val_accuracy improved from 0.69510 to 0.70030, saving model to best_model.keras\n",
            "500/500 [==============================] - 8s 15ms/step - loss: 0.8532 - accuracy: 0.7010 - val_loss: 0.8685 - val_accuracy: 0.7003\n",
            "Epoch 12/50\n",
            "497/500 [============================>.] - ETA: 0s - loss: 0.8348 - accuracy: 0.7070\n",
            "Epoch 12: val_accuracy improved from 0.70030 to 0.72520, saving model to best_model.keras\n",
            "500/500 [==============================] - 7s 15ms/step - loss: 0.8355 - accuracy: 0.7068 - val_loss: 0.7783 - val_accuracy: 0.7252\n",
            "Epoch 13/50\n",
            "499/500 [============================>.] - ETA: 0s - loss: 0.8124 - accuracy: 0.7146\n",
            "Epoch 13: val_accuracy did not improve from 0.72520\n",
            "500/500 [==============================] - 8s 15ms/step - loss: 0.8127 - accuracy: 0.7146 - val_loss: 0.8548 - val_accuracy: 0.7067\n",
            "Epoch 14/50\n",
            "500/500 [==============================] - ETA: 0s - loss: 0.7975 - accuracy: 0.7217\n",
            "Epoch 14: val_accuracy did not improve from 0.72520\n",
            "500/500 [==============================] - 7s 15ms/step - loss: 0.7975 - accuracy: 0.7217 - val_loss: 0.9175 - val_accuracy: 0.7027\n",
            "Epoch 15/50\n",
            "497/500 [============================>.] - ETA: 0s - loss: 0.7823 - accuracy: 0.7250\n",
            "Epoch 15: val_accuracy improved from 0.72520 to 0.75300, saving model to best_model.keras\n",
            "500/500 [==============================] - 8s 15ms/step - loss: 0.7817 - accuracy: 0.7253 - val_loss: 0.7231 - val_accuracy: 0.7530\n",
            "Epoch 16/50\n",
            "500/500 [==============================] - ETA: 0s - loss: 0.7720 - accuracy: 0.7285\n",
            "Epoch 16: val_accuracy did not improve from 0.75300\n",
            "500/500 [==============================] - 7s 15ms/step - loss: 0.7720 - accuracy: 0.7285 - val_loss: 0.8159 - val_accuracy: 0.7212\n",
            "Epoch 17/50\n",
            "497/500 [============================>.] - ETA: 0s - loss: 0.7606 - accuracy: 0.7354\n",
            "Epoch 17: val_accuracy did not improve from 0.75300\n",
            "500/500 [==============================] - 7s 15ms/step - loss: 0.7603 - accuracy: 0.7354 - val_loss: 0.7322 - val_accuracy: 0.7505\n",
            "Epoch 18/50\n",
            "499/500 [============================>.] - ETA: 0s - loss: 0.7488 - accuracy: 0.7388\n",
            "Epoch 18: val_accuracy improved from 0.75300 to 0.77140, saving model to best_model.keras\n",
            "500/500 [==============================] - 7s 15ms/step - loss: 0.7486 - accuracy: 0.7388 - val_loss: 0.6797 - val_accuracy: 0.7714\n",
            "Epoch 19/50\n",
            "497/500 [============================>.] - ETA: 0s - loss: 0.7367 - accuracy: 0.7454\n",
            "Epoch 19: val_accuracy did not improve from 0.77140\n",
            "500/500 [==============================] - 7s 15ms/step - loss: 0.7363 - accuracy: 0.7456 - val_loss: 0.7953 - val_accuracy: 0.7335\n",
            "Epoch 20/50\n",
            "497/500 [============================>.] - ETA: 0s - loss: 0.7263 - accuracy: 0.7470\n",
            "Epoch 20: val_accuracy did not improve from 0.77140\n",
            "500/500 [==============================] - 7s 15ms/step - loss: 0.7260 - accuracy: 0.7472 - val_loss: 0.8644 - val_accuracy: 0.7156\n",
            "Epoch 21/50\n",
            "498/500 [============================>.] - ETA: 0s - loss: 0.7190 - accuracy: 0.7494\n",
            "Epoch 21: val_accuracy did not improve from 0.77140\n",
            "500/500 [==============================] - 7s 15ms/step - loss: 0.7185 - accuracy: 0.7497 - val_loss: 0.7237 - val_accuracy: 0.7516\n",
            "Epoch 22/50\n",
            "500/500 [==============================] - ETA: 0s - loss: 0.7114 - accuracy: 0.7535\n",
            "Epoch 22: val_accuracy did not improve from 0.77140\n",
            "500/500 [==============================] - 7s 15ms/step - loss: 0.7114 - accuracy: 0.7535 - val_loss: 0.7385 - val_accuracy: 0.7473\n",
            "Epoch 23/50\n",
            "498/500 [============================>.] - ETA: 0s - loss: 0.7063 - accuracy: 0.7546\n",
            "Epoch 23: val_accuracy did not improve from 0.77140\n",
            "500/500 [==============================] - 8s 15ms/step - loss: 0.7060 - accuracy: 0.7547 - val_loss: 0.8061 - val_accuracy: 0.7198\n",
            "Epoch 24/50\n",
            "497/500 [============================>.] - ETA: 0s - loss: 0.6999 - accuracy: 0.7559\n",
            "Epoch 24: val_accuracy did not improve from 0.77140\n",
            "500/500 [==============================] - 8s 15ms/step - loss: 0.6991 - accuracy: 0.7561 - val_loss: 0.7345 - val_accuracy: 0.7487\n",
            "Epoch 25/50\n",
            "497/500 [============================>.] - ETA: 0s - loss: 0.6904 - accuracy: 0.7613\n",
            "Epoch 25: val_accuracy did not improve from 0.77140\n",
            "500/500 [==============================] - 8s 15ms/step - loss: 0.6902 - accuracy: 0.7612 - val_loss: 0.6651 - val_accuracy: 0.7691\n",
            "Epoch 26/50\n",
            "497/500 [============================>.] - ETA: 0s - loss: 0.6807 - accuracy: 0.7639\n",
            "Epoch 26: val_accuracy improved from 0.77140 to 0.78110, saving model to best_model.keras\n",
            "500/500 [==============================] - 8s 15ms/step - loss: 0.6811 - accuracy: 0.7639 - val_loss: 0.6345 - val_accuracy: 0.7811\n",
            "Epoch 27/50\n",
            "499/500 [============================>.] - ETA: 0s - loss: 0.6747 - accuracy: 0.7661\n",
            "Epoch 27: val_accuracy improved from 0.78110 to 0.78120, saving model to best_model.keras\n",
            "500/500 [==============================] - 8s 15ms/step - loss: 0.6747 - accuracy: 0.7661 - val_loss: 0.6372 - val_accuracy: 0.7812\n",
            "Epoch 28/50\n",
            "497/500 [============================>.] - ETA: 0s - loss: 0.6739 - accuracy: 0.7668\n",
            "Epoch 28: val_accuracy improved from 0.78120 to 0.80000, saving model to best_model.keras\n",
            "500/500 [==============================] - 8s 15ms/step - loss: 0.6735 - accuracy: 0.7668 - val_loss: 0.5830 - val_accuracy: 0.8000\n",
            "Epoch 29/50\n",
            "497/500 [============================>.] - ETA: 0s - loss: 0.6710 - accuracy: 0.7666\n",
            "Epoch 29: val_accuracy did not improve from 0.80000\n",
            "500/500 [==============================] - 7s 14ms/step - loss: 0.6706 - accuracy: 0.7668 - val_loss: 0.7535 - val_accuracy: 0.7471\n",
            "Epoch 30/50\n",
            "499/500 [============================>.] - ETA: 0s - loss: 0.6623 - accuracy: 0.7701\n",
            "Epoch 30: val_accuracy did not improve from 0.80000\n",
            "500/500 [==============================] - 7s 15ms/step - loss: 0.6620 - accuracy: 0.7702 - val_loss: 0.6496 - val_accuracy: 0.7770\n",
            "Epoch 31/50\n",
            "497/500 [============================>.] - ETA: 0s - loss: 0.6594 - accuracy: 0.7712\n",
            "Epoch 31: val_accuracy did not improve from 0.80000\n",
            "500/500 [==============================] - 7s 14ms/step - loss: 0.6599 - accuracy: 0.7710 - val_loss: 0.6051 - val_accuracy: 0.7907\n",
            "Epoch 32/50\n",
            "497/500 [============================>.] - ETA: 0s - loss: 0.6553 - accuracy: 0.7721\n",
            "Epoch 32: val_accuracy did not improve from 0.80000\n",
            "500/500 [==============================] - 7s 15ms/step - loss: 0.6554 - accuracy: 0.7720 - val_loss: 0.7199 - val_accuracy: 0.7546\n",
            "Epoch 33/50\n",
            "497/500 [============================>.] - ETA: 0s - loss: 0.6486 - accuracy: 0.7767\n",
            "Epoch 33: val_accuracy did not improve from 0.80000\n",
            "500/500 [==============================] - 7s 15ms/step - loss: 0.6490 - accuracy: 0.7766 - val_loss: 0.5909 - val_accuracy: 0.7973\n",
            "Epoch 34/50\n",
            "497/500 [============================>.] - ETA: 0s - loss: 0.6460 - accuracy: 0.7775\n",
            "Epoch 34: val_accuracy did not improve from 0.80000\n",
            "500/500 [==============================] - 8s 15ms/step - loss: 0.6457 - accuracy: 0.7775 - val_loss: 0.6403 - val_accuracy: 0.7842\n",
            "Epoch 35/50\n",
            "499/500 [============================>.] - ETA: 0s - loss: 0.6417 - accuracy: 0.7774\n",
            "Epoch 35: val_accuracy did not improve from 0.80000\n",
            "500/500 [==============================] - 8s 15ms/step - loss: 0.6417 - accuracy: 0.7773 - val_loss: 0.6580 - val_accuracy: 0.7807\n",
            "Epoch 36/50\n",
            "497/500 [============================>.] - ETA: 0s - loss: 0.6340 - accuracy: 0.7810\n",
            "Epoch 36: val_accuracy did not improve from 0.80000\n",
            "500/500 [==============================] - 7s 15ms/step - loss: 0.6339 - accuracy: 0.7812 - val_loss: 0.5959 - val_accuracy: 0.7950\n",
            "Epoch 37/50\n",
            "499/500 [============================>.] - ETA: 0s - loss: 0.6350 - accuracy: 0.7813\n",
            "Epoch 37: val_accuracy improved from 0.80000 to 0.80040, saving model to best_model.keras\n",
            "500/500 [==============================] - 8s 15ms/step - loss: 0.6351 - accuracy: 0.7814 - val_loss: 0.5815 - val_accuracy: 0.8004\n",
            "Epoch 38/50\n",
            "497/500 [============================>.] - ETA: 0s - loss: 0.6258 - accuracy: 0.7832\n",
            "Epoch 38: val_accuracy did not improve from 0.80040\n",
            "500/500 [==============================] - 7s 14ms/step - loss: 0.6263 - accuracy: 0.7831 - val_loss: 0.6091 - val_accuracy: 0.7872\n",
            "Epoch 39/50\n",
            "499/500 [============================>.] - ETA: 0s - loss: 0.6252 - accuracy: 0.7848\n",
            "Epoch 39: val_accuracy did not improve from 0.80040\n",
            "500/500 [==============================] - 7s 15ms/step - loss: 0.6253 - accuracy: 0.7848 - val_loss: 0.6235 - val_accuracy: 0.7863\n",
            "Epoch 40/50\n",
            "499/500 [============================>.] - ETA: 0s - loss: 0.6245 - accuracy: 0.7842\n",
            "Epoch 40: val_accuracy did not improve from 0.80040\n",
            "500/500 [==============================] - 8s 15ms/step - loss: 0.6243 - accuracy: 0.7843 - val_loss: 0.6073 - val_accuracy: 0.7930\n",
            "Epoch 41/50\n",
            "497/500 [============================>.] - ETA: 0s - loss: 0.6157 - accuracy: 0.7874\n",
            "Epoch 41: val_accuracy did not improve from 0.80040\n",
            "500/500 [==============================] - 7s 15ms/step - loss: 0.6157 - accuracy: 0.7874 - val_loss: 0.6695 - val_accuracy: 0.7808\n",
            "Epoch 42/50\n",
            "500/500 [==============================] - ETA: 0s - loss: 0.6171 - accuracy: 0.7862\n",
            "Epoch 42: val_accuracy did not improve from 0.80040\n",
            "500/500 [==============================] - 7s 15ms/step - loss: 0.6171 - accuracy: 0.7862 - val_loss: 0.6000 - val_accuracy: 0.7973\n",
            "Epoch 43/50\n",
            "497/500 [============================>.] - ETA: 0s - loss: 0.6103 - accuracy: 0.7892\n",
            "Epoch 43: val_accuracy did not improve from 0.80040\n",
            "500/500 [==============================] - 8s 15ms/step - loss: 0.6104 - accuracy: 0.7892 - val_loss: 0.6575 - val_accuracy: 0.7805\n",
            "Epoch 44/50\n",
            "500/500 [==============================] - ETA: 0s - loss: 0.6112 - accuracy: 0.7895\n",
            "Epoch 44: val_accuracy did not improve from 0.80040\n",
            "500/500 [==============================] - 8s 15ms/step - loss: 0.6112 - accuracy: 0.7895 - val_loss: 0.6368 - val_accuracy: 0.7835\n",
            "Epoch 45/50\n",
            "497/500 [============================>.] - ETA: 0s - loss: 0.6046 - accuracy: 0.7900\n",
            "Epoch 45: val_accuracy did not improve from 0.80040\n",
            "500/500 [==============================] - 7s 15ms/step - loss: 0.6046 - accuracy: 0.7900 - val_loss: 0.5850 - val_accuracy: 0.8002\n",
            "Epoch 46/50\n",
            "498/500 [============================>.] - ETA: 0s - loss: 0.6053 - accuracy: 0.7887\n",
            "Epoch 46: val_accuracy did not improve from 0.80040\n",
            "500/500 [==============================] - 8s 15ms/step - loss: 0.6053 - accuracy: 0.7887 - val_loss: 0.5780 - val_accuracy: 0.8004\n",
            "Epoch 47/50\n",
            "497/500 [============================>.] - ETA: 0s - loss: 0.6061 - accuracy: 0.7903\n",
            "Epoch 47: val_accuracy did not improve from 0.80040\n",
            "500/500 [==============================] - 8s 15ms/step - loss: 0.6063 - accuracy: 0.7904 - val_loss: 0.5913 - val_accuracy: 0.7975\n",
            "Epoch 48/50\n",
            "500/500 [==============================] - ETA: 0s - loss: 0.5956 - accuracy: 0.7951\n",
            "Epoch 48: val_accuracy did not improve from 0.80040\n",
            "500/500 [==============================] - 7s 14ms/step - loss: 0.5956 - accuracy: 0.7951 - val_loss: 0.5893 - val_accuracy: 0.8004\n",
            "Epoch 49/50\n",
            "500/500 [==============================] - ETA: 0s - loss: 0.5956 - accuracy: 0.7927\n",
            "Epoch 49: val_accuracy improved from 0.80040 to 0.80110, saving model to best_model.keras\n",
            "500/500 [==============================] - 8s 15ms/step - loss: 0.5956 - accuracy: 0.7927 - val_loss: 0.5780 - val_accuracy: 0.8011\n",
            "Epoch 50/50\n",
            "497/500 [============================>.] - ETA: 0s - loss: 0.5970 - accuracy: 0.7929\n",
            "Epoch 50: val_accuracy did not improve from 0.80110\n",
            "500/500 [==============================] - 7s 14ms/step - loss: 0.5965 - accuracy: 0.7930 - val_loss: 0.6672 - val_accuracy: 0.7839\n",
            "====================================================\n",
            "Training with   50  epochs, lasted   6.416666666666667  minutes\n",
            "--------------  Report  ------------------------\n",
            "Model size (K-params):  24\n",
            "Best validation accuracy : 80.11000156402588 %\n",
            "Prediction time per entire validation set:  1.9692604541778564\n",
            "Latency (per sample): 0.19692604541778563 ms\n",
            "Dataset :  cifar10\n",
            "Model:  VRESCNN_0_[30, 80, 30]_[2, 2, 1]_[]\n",
            "Image size:  32\n",
            "Batch size:  100\n"
          ]
        }
      ]
    },
    {
      "cell_type": "markdown",
      "source": [
        "# Display training plots"
      ],
      "metadata": {
        "id": "Rc1AbXXwmQPj"
      }
    },
    {
      "cell_type": "code",
      "source": [
        "from matplotlib import pyplot as plt\n",
        "def display_training_curves(training, validation, title, subplot):\n",
        "    if subplot%10==1: # set up the subplots on the first call\n",
        "        plt.subplots(figsize=(7,3), facecolor='#F0F0F0')\n",
        "        plt.tight_layout()\n",
        "    ax = plt.subplot(subplot)\n",
        "    ax.set_facecolor('#F8F8F8')\n",
        "    ax.plot(training)\n",
        "    ax.plot(validation)\n",
        "    ax.set_title('model '+ title)\n",
        "    ax.set_ylabel(title)\n",
        "    #ax.set_ylim(0.28,1.05)\n",
        "    ax.set_xlabel('epoch')\n",
        "    ax.legend(['train', 'valid.'])\n",
        "display_training_curves(history.history['loss'], history.history['val_loss'], 'loss', 121)\n",
        "display_training_curves(history.history['accuracy'], history.history['val_accuracy'], 'accuracy', 122)"
      ],
      "metadata": {
        "colab": {
          "base_uri": "https://localhost:8080/",
          "height": 398
        },
        "id": "45_UlH9tHH1E",
        "outputId": "2af34305-55e6-4f1b-fcdf-85fb58a9f89e",
        "execution": {
          "iopub.status.busy": "2024-05-27T14:04:14.416481Z",
          "iopub.execute_input": "2024-05-27T14:04:14.417223Z",
          "iopub.status.idle": "2024-05-27T14:04:15.043249Z",
          "shell.execute_reply.started": "2024-05-27T14:04:14.417188Z",
          "shell.execute_reply": "2024-05-27T14:04:15.042375Z"
        },
        "trusted": true
      },
      "execution_count": 43,
      "outputs": [
        {
          "output_type": "stream",
          "name": "stderr",
          "text": [
            "<ipython-input-43-951775051a26>:6: MatplotlibDeprecationWarning: Auto-removal of overlapping axes is deprecated since 3.6 and will be removed two minor releases later; explicitly call ax.remove() as needed.\n",
            "  ax = plt.subplot(subplot)\n"
          ]
        },
        {
          "output_type": "display_data",
          "data": {
            "text/plain": [
              "<Figure size 700x300 with 2 Axes>"
            ],
            "image/png": "[encoded data removed]"
          },
          "metadata": {}
        }
      ]
    },
    {
      "cell_type": "code",
      "source": [
        "# Saving model\n",
        "#-----------------------------------------------------------\n",
        "\n",
        "model.save('myname.keras')  # use your favourite name"
      ],
      "metadata": {
        "id": "7n4z2_eh_9QV",
        "execution": {
          "iopub.status.busy": "2024-05-27T11:49:38.222121Z",
          "iopub.execute_input": "2024-05-27T11:49:38.222879Z",
          "iopub.status.idle": "2024-05-27T11:49:38.308855Z",
          "shell.execute_reply.started": "2024-05-27T11:49:38.222847Z",
          "shell.execute_reply": "2024-05-27T11:49:38.307879Z"
        },
        "trusted": true
      },
      "execution_count": null,
      "outputs": []
    },
    {
      "cell_type": "markdown",
      "source": [
        "# Conversion to tflite  (only in Keras 2.x)"
      ],
      "metadata": {
        "id": "DbAQqLFlRZ0g"
      }
    },
    {
      "cell_type": "code",
      "source": [
        "if keras.__version__[0]=='2':\n",
        "    import tensorflow as tf\n",
        "    converter=tf.lite.TFLiteConverter.from_keras_model(model)\n",
        "    converter.post_training_quantize=True  #\n",
        "    converter.optimizations = [tf.lite.Optimize.DEFAULT]\n",
        "    tflite_model=converter.convert()\n",
        "    myname='tflite_xx.tflite'\n",
        "    open(myname,'wb').write(tflite_model)\n",
        "elif keras.__version__[0]=='3':\n",
        "    print('On this platform Keras 3 is installed ; Do restart and !pip install keras==2.15.0')"
      ],
      "metadata": {
        "id": "CDEcZluIO8gx",
        "execution": {
          "iopub.status.busy": "2024-05-27T11:49:40.541579Z",
          "iopub.execute_input": "2024-05-27T11:49:40.541977Z",
          "iopub.status.idle": "2024-05-27T11:49:40.548980Z",
          "shell.execute_reply.started": "2024-05-27T11:49:40.541944Z",
          "shell.execute_reply": "2024-05-27T11:49:40.547902Z"
        },
        "trusted": true
      },
      "execution_count": 44,
      "outputs": []
    },
    {
      "cell_type": "markdown",
      "source": [
        "# Evaluate the .tflite model"
      ],
      "metadata": {
        "id": "_d-WjN-0qOcg"
      }
    },
    {
      "cell_type": "code",
      "source": [
        "# helper function - run once\n",
        "import time as ti\n",
        "from sklearn.metrics import classification_report, confusion_matrix\n",
        "import tensorflow as tf\n",
        "\n",
        "def evaluate_model(interpreter, x_test, y_test):  # num_batches only if you use validation_generator\n",
        "  if out_coding=='non':\n",
        "        ync_test=y_test\n",
        "  elif out_coding=='cat':\n",
        "        ync_test=np.int16(np.dot(y_test,np.array(range(num_classes))))\n",
        "  input_index = interpreter.get_input_details()[0][\"index\"]\n",
        "  output_index = interpreter.get_output_details()[0][\"index\"]\n",
        "  prediction_digits = []\n",
        "  durata=0\n",
        "  for test_image in x_test:\n",
        "    test_image = np.expand_dims(test_image, axis=0).astype(np.float32)  # comentat\n",
        "    interpreter.set_tensor(input_index, test_image)\n",
        "    t1=ti.time()\n",
        "    # Run inference.\n",
        "    interpreter.invoke()\n",
        "    t2=ti.time()\n",
        "    durata += (t2-t1)\n",
        "    output = interpreter.get_tensor(output_index)  # s-a modificat la get_tensor (varianta tensor nu mai este actuala !!!)\n",
        "    digit = np.argmax(output, axis=1)  # si aici s-a modificat de la output()[0]\n",
        "    prediction_digits.append(digit)\n",
        "\n",
        "  # Conf. matrix\n",
        "  accurate_count = 0\n",
        "  for index in range(len(prediction_digits)):\n",
        "    if prediction_digits[index] == ync_test[index]:\n",
        "      accurate_count += 1\n",
        "  accuracy = accurate_count * 1.0 / len(prediction_digits)\n",
        "  C=confusion_matrix(prediction_digits,ync_test)  # matricea de confuzie pe model .tflite\n",
        "  print(C)\n",
        "  print(classification_report(ync_test, prediction_digits ))\n",
        "  return accuracy, prediction_digits, 1000*durata/len(prediction_digits)"
      ],
      "metadata": {
        "id": "RBedJ9cKqSeX"
      },
      "execution_count": 31,
      "outputs": []
    },
    {
      "cell_type": "code",
      "source": [
        "# absolut necesare pentru a se putea lucra mai departe\n",
        "interpreter = tf.lite.Interpreter(model_path='/content/tflite_xx.tflite' )  #\n",
        "\n",
        "interpreter.allocate_tensors()"
      ],
      "metadata": {
        "id": "gMt6ud8ZrVfJ"
      },
      "execution_count": 45,
      "outputs": []
    },
    {
      "cell_type": "code",
      "source": [
        "print(\"Model Sizes:\")\n",
        "!ls -lh | awk '{print $5 \"\\t\" $9}'"
      ],
      "metadata": {
        "id": "WhcYUIlSrlkZ",
        "outputId": "92121f28-0ba2-48ac-d306-54bf3d4c3758",
        "colab": {
          "base_uri": "https://localhost:8080/"
        }
      },
      "execution_count": 46,
      "outputs": [
        {
          "output_type": "stream",
          "name": "stdout",
          "text": [
            "Model Sizes:\n",
            "\t\n",
            "407K\tbest_model.keras\n",
            "4.0K\tsample_data\n",
            "61K\ttflite_xx.tflite\n"
          ]
        }
      ]
    },
    {
      "cell_type": "code",
      "source": [
        "# evaluate .tflite performance\n",
        "acc, pred, lat = evaluate_model(interpreter, x_test, y_test)\n",
        "print('Validation accuracy on .tflite model is: ', 100*acc,'%', 'Latency: ',lat,' ms')\n"
      ],
      "metadata": {
        "id": "DBSMENovrxuB",
        "outputId": "c111f852-2d4f-4932-a108-01025451816b",
        "colab": {
          "base_uri": "https://localhost:8080/"
        }
      },
      "execution_count": 47,
      "outputs": [
        {
          "output_type": "stream",
          "name": "stdout",
          "text": [
            "[[766  14  56  12  11   8   5  21  20  18]\n",
            " [ 11 867   3   4   3   4   2   3   5  35]\n",
            " [ 25   1 698  43  56  25  29  17   2   2]\n",
            " [ 10   3  30 605  26 116  20  19   1   4]\n",
            " [ 13   0  49  41 789  41   9  39   0   2]\n",
            " [  1   2  47 105  14 702   9  31   2   0]\n",
            " [  6   3  67 105  52  29 907  13   3   1]\n",
            " [  9   1  20  30  34  55   3 842   3   3]\n",
            " [143  55  24  39  14  15  16   8 959  65]\n",
            " [ 16  54   6  16   1   5   0   7   5 870]]\n",
            "              precision    recall  f1-score   support\n",
            "\n",
            "           0       0.82      0.77      0.79      1000\n",
            "           1       0.93      0.87      0.90      1000\n",
            "           2       0.78      0.70      0.74      1000\n",
            "           3       0.73      0.60      0.66      1000\n",
            "           4       0.80      0.79      0.80      1000\n",
            "           5       0.77      0.70      0.73      1000\n",
            "           6       0.76      0.91      0.83      1000\n",
            "           7       0.84      0.84      0.84      1000\n",
            "           8       0.72      0.96      0.82      1000\n",
            "           9       0.89      0.87      0.88      1000\n",
            "\n",
            "    accuracy                           0.80     10000\n",
            "   macro avg       0.80      0.80      0.80     10000\n",
            "weighted avg       0.80      0.80      0.80     10000\n",
            "\n",
            "Validation accuracy on .tflite model is:  80.05 % Latency:  0.5709647178649903  ms\n"
          ]
        }
      ]
    }
  ]
}